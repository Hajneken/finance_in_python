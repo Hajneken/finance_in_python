{
 "cells": [
  {
   "cell_type": "markdown",
   "id": "fdd1920f",
   "metadata": {},
   "source": [
    "# Financial Analysis for Python \n",
    "\n",
    "Inspired by [tutorial by Derek Banas](https://www.youtube.com/watch?v=4jaBKXDqg9U&t)"
   ]
  },
  {
   "cell_type": "code",
   "execution_count": 1,
   "id": "cde2446c",
   "metadata": {},
   "outputs": [
    {
     "name": "stdout",
     "output_type": "stream",
     "text": [
      "Hello World\n"
     ]
    }
   ],
   "source": [
    "print(\"Hello World\")"
   ]
  }
 ],
 "metadata": {
  "interpreter": {
   "hash": "fa464bff28b0d2c7e5fdcaee5193dc4b79046f75ffbd4d69db46283f688736aa"
  },
  "kernelspec": {
   "display_name": "Python 3.9.7 64-bit ('base': conda)",
   "language": "python",
   "name": "python3"
  },
  "language_info": {
   "codemirror_mode": {
    "name": "ipython",
    "version": 3
   },
   "file_extension": ".py",
   "mimetype": "text/x-python",
   "name": "python",
   "nbconvert_exporter": "python",
   "pygments_lexer": "ipython3",
   "version": "3.9.7"
  }
 },
 "nbformat": 4,
 "nbformat_minor": 5
}
